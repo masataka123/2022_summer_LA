{
 "cells": [
  {
   "cell_type": "markdown",
   "metadata": {},
   "source": [
    "# 期末レポート解答例\n",
    "以下期末レポートをプログラミングで解いてみました. 皆様の理解の助けになれば幸いです. \n",
    "\n",
    "ただ今回は証明問題が多いので, あまり解けていません. 証明問題を解くプログラミング言語(leanとか)もあるそうなので, 興味ある人はやってみて私に教えてください."
   ]
  },
  {
   "cell_type": "code",
   "execution_count": 15,
   "metadata": {},
   "outputs": [],
   "source": [
    "import numpy as np\n",
    "import sympy as sp"
   ]
  },
  {
   "cell_type": "markdown",
   "metadata": {},
   "source": [
    "## 期末レポート第1問"
   ]
  },
  {
   "cell_type": "code",
   "execution_count": 16,
   "metadata": {},
   "outputs": [],
   "source": [
    "def holo(A):\n",
    "    if A.det()==0:\n",
    "        print(\"行列式が0なので正則行列ではない.\")\n",
    "    else:\n",
    "        print(\"行列式が0ではないので正則行列であり, 逆行列は次となる.\")\n",
    "        print(A.inv())\n",
    "    return "
   ]
  },
  {
   "cell_type": "code",
   "execution_count": 17,
   "metadata": {},
   "outputs": [
    {
     "name": "stdout",
     "output_type": "stream",
     "text": [
      "行列式が0ではないので正則行列であり, 逆行列は次となる.\n",
      "Matrix([[1, -2022], [0, 1]])\n"
     ]
    }
   ],
   "source": [
    "# 第1問(1)\n",
    "holo(sp.Matrix(np.array([[1,2022],[0,1]])))"
   ]
  },
  {
   "cell_type": "code",
   "execution_count": 18,
   "metadata": {},
   "outputs": [
    {
     "name": "stdout",
     "output_type": "stream",
     "text": [
      "行列式が0ではないので正則行列であり, 逆行列は次となる.\n",
      "Matrix([[-1/4, 1/4, 1/4], [1/4, -1/2, 1/4], [1/4, 1/4, -1/4]])\n"
     ]
    }
   ],
   "source": [
    "# 第1問(2)\n",
    "holo(sp.Matrix(np.array([[1,2,3],[2,0,2],[3,2,1]])))"
   ]
  },
  {
   "cell_type": "code",
   "execution_count": 19,
   "metadata": {},
   "outputs": [
    {
     "name": "stdout",
     "output_type": "stream",
     "text": [
      "行列式が0なので正則行列ではない.\n"
     ]
    }
   ],
   "source": [
    "# 第1問(3)\n",
    "holo(sp.Matrix(np.array([[1,2,1],[2,1,3],[1,5,0]])))"
   ]
  },
  {
   "cell_type": "code",
   "execution_count": 20,
   "metadata": {},
   "outputs": [
    {
     "name": "stdout",
     "output_type": "stream",
     "text": [
      "行列式が0なので正則行列ではない.\n"
     ]
    }
   ],
   "source": [
    "# 第1問(4)\n",
    "A = np.array([np.arange(i, i+5) for i in range(1,6)])\n",
    "holo(sp.Matrix(A))"
   ]
  },
  {
   "cell_type": "code",
   "execution_count": null,
   "metadata": {},
   "outputs": [],
   "source": []
  },
  {
   "cell_type": "code",
   "execution_count": 21,
   "metadata": {},
   "outputs": [
    {
     "name": "stdout",
     "output_type": "stream",
     "text": [
      "(Matrix([\n",
      "[  1, 0, 1.0, -2022.0],\n",
      "[0.0, 1,   0,     1.0]]), (0, 1))\n"
     ]
    }
   ],
   "source": [
    "# 第1問(1)別解\n",
    "E = np.eye(2)\n",
    "A = np.array([[1,2022],[0,1]])\n",
    "X=sp.Matrix(np.concatenate([A, E], 1))\n",
    "print(X.rref())"
   ]
  },
  {
   "cell_type": "code",
   "execution_count": 22,
   "metadata": {},
   "outputs": [
    {
     "name": "stdout",
     "output_type": "stream",
     "text": [
      "(Matrix([\n",
      "[1, 0, 0, -0.25, 0.25,  0.25],\n",
      "[0, 1, 0,  0.25, -0.5,  0.25],\n",
      "[0, 0, 1,  0.25, 0.25, -0.25]]), (0, 1, 2))\n"
     ]
    }
   ],
   "source": [
    "# 第1問(2)別解\n",
    "E = np.eye(3)\n",
    "A = np.array([[1,2,3],[2,0,2],[3,2,1]])\n",
    "X=sp.Matrix(np.concatenate([A, E], 1))\n",
    "print(X.rref())"
   ]
  },
  {
   "cell_type": "code",
   "execution_count": 23,
   "metadata": {},
   "outputs": [
    {
     "name": "stdout",
     "output_type": "stream",
     "text": [
      "(Matrix([\n",
      "[1, 0,   1.66666666666667, 0,  0.555555555555556, -0.111111111111111],\n",
      "[0, 1, -0.333333333333333, 0, -0.111111111111111,  0.222222222222222],\n",
      "[0, 0,                  0, 1, -0.333333333333333, -0.333333333333333]]), (0, 1, 3))\n"
     ]
    }
   ],
   "source": [
    "# 第1問(3)別解\n",
    "E = np.eye(3)\n",
    "A = np.array([[1,2,1],[2,1,3],[1,5,0]])\n",
    "X=sp.Matrix(np.concatenate([A, E], 1))\n",
    "print(X.rref())"
   ]
  },
  {
   "cell_type": "code",
   "execution_count": 24,
   "metadata": {},
   "outputs": [
    {
     "name": "stdout",
     "output_type": "stream",
     "text": [
      "(Matrix([\n",
      "[1, 0, -1.0, -2.0, -3.0, 0, 0, 0, -6.0,  5.0],\n",
      "[0, 1,  2.0,  3.0,  4.0, 0, 0, 0,  5.0, -4.0],\n",
      "[0, 0,    0,    0,    0, 1, 0, 0, -4.0,  3.0],\n",
      "[0, 0,    0,    0,    0, 0, 1, 0, -3.0,  2.0],\n",
      "[0, 0,    0,    0,    0, 0, 0, 1, -2.0,  1.0]]), (0, 1, 5, 6, 7))\n"
     ]
    }
   ],
   "source": [
    "# 第1問(4)別解\n",
    "E = np.eye(5)\n",
    "A = np.array([np.arange(i, i+5) for i in range(1,6)])\n",
    "X=sp.Matrix(np.concatenate([A, E], 1))\n",
    "print(X.rref())"
   ]
  },
  {
   "cell_type": "code",
   "execution_count": null,
   "metadata": {},
   "outputs": [],
   "source": []
  },
  {
   "cell_type": "markdown",
   "metadata": {},
   "source": [
    "## 期末レポート第2問"
   ]
  },
  {
   "cell_type": "code",
   "execution_count": 25,
   "metadata": {},
   "outputs": [
    {
     "name": "stdout",
     "output_type": "stream",
     "text": [
      "Aの行列式は-x**2 + 3*x - 2であるので, 答えは次となる.\n",
      "[1, 2]\n"
     ]
    }
   ],
   "source": [
    "# 第2問\n",
    "x = sp.Symbol('x')\n",
    "A = sp.Matrix(np.array([[1,-1,1,2],[0,1,-1,-1],[2,-1,x,3],[x,-2,2,4]]))\n",
    "det=A.det()\n",
    "print(\"Aの行列式は\"+str(det)+\"であるので, 答えは次となる.\")\n",
    "print(sp.solve(det,x))"
   ]
  },
  {
   "cell_type": "markdown",
   "metadata": {},
   "source": [
    "## 期末レポート第3問\n",
    "この問題もプログラミングできなかった. 一応(2)はわかるが..."
   ]
  },
  {
   "cell_type": "code",
   "execution_count": 26,
   "metadata": {},
   "outputs": [
    {
     "name": "stdout",
     "output_type": "stream",
     "text": [
      "Aの行列式は-9*y**2 + 57*y - 78であるので, 答えは次となる.\n",
      "[2, 13/3]\n"
     ]
    }
   ],
   "source": [
    "# 第3問(2)\n",
    "y = sp.Symbol('y')\n",
    "B = sp.Matrix(np.array([[1,y,3],[y,3,13],[3,6,9]]))\n",
    "det=B.det()\n",
    "print(\"Aの行列式は\"+str(det)+\"であるので, 答えは次となる.\")\n",
    "print(sp.solve(det,y))"
   ]
  },
  {
   "cell_type": "code",
   "execution_count": null,
   "metadata": {},
   "outputs": [],
   "source": []
  }
 ],
 "metadata": {
  "kernelspec": {
   "display_name": "Python (anaconda)",
   "language": "python",
   "name": "anacondapython"
  },
  "language_info": {
   "codemirror_mode": {
    "name": "ipython",
    "version": 3
   },
   "file_extension": ".py",
   "mimetype": "text/x-python",
   "name": "python",
   "nbconvert_exporter": "python",
   "pygments_lexer": "ipython3",
   "version": "3.6.3"
  },
  "toc": {
   "base_numbering": 1,
   "nav_menu": {},
   "number_sections": true,
   "sideBar": true,
   "skip_h1_title": false,
   "title_cell": "Table of Contents",
   "title_sidebar": "Contents",
   "toc_cell": false,
   "toc_position": {},
   "toc_section_display": true,
   "toc_window_display": false
  }
 },
 "nbformat": 4,
 "nbformat_minor": 2
}
