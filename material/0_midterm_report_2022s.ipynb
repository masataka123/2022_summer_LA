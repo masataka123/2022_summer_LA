{
 "cells": [
  {
   "cell_type": "markdown",
   "metadata": {},
   "source": [
    "# 中間レポート解答例\n",
    "以下中間レポートをプログラミングで解いてみました. 皆様の理解の助けになれば幸いです. \n",
    "\n",
    "このページから分かる通り, 行列の計算や掃き出し法はすでに自動化されていて, 人間が手を動かして計算することはこの授業や院試(大学院に入るための試験)以外にはあまりないと思います. "
   ]
  },
  {
   "cell_type": "markdown",
   "metadata": {},
   "source": [
    "## 中間レポート第1問\n"
   ]
  },
  {
   "cell_type": "code",
   "execution_count": 33,
   "metadata": {},
   "outputs": [
    {
     "name": "stdout",
     "output_type": "stream",
     "text": [
      "[[ 5  0]\n",
      " [-4  7]\n",
      " [-9 -2]]\n"
     ]
    }
   ],
   "source": [
    "# 第1問(1)\n",
    "import numpy as np\n",
    "ans = np.array([[1,2],[-4,-1],[5,-2]])+ 2 * np.array([[2,-1],[0,4],[-7,0]])\n",
    "print(ans)"
   ]
  },
  {
   "cell_type": "code",
   "execution_count": 34,
   "metadata": {},
   "outputs": [
    {
     "name": "stdout",
     "output_type": "stream",
     "text": [
      "[[ 12 -17  52]\n",
      " [ 10  13   7]]\n"
     ]
    }
   ],
   "source": [
    "# 第1問(2)\n",
    "ans = 3 * np.array([[2,-1,4],[0,3,-5]]) \\\n",
    "- 2 * (np.array([[0,1,-2],[7,-5,4]]) - 3 * np.array([[1,-2,6],[4,-1,5]]) )\n",
    "print(ans)"
   ]
  },
  {
   "cell_type": "markdown",
   "metadata": {},
   "source": [
    "## 中間レポート第2問"
   ]
  },
  {
   "cell_type": "code",
   "execution_count": 35,
   "metadata": {},
   "outputs": [
    {
     "name": "stdout",
     "output_type": "stream",
     "text": [
      "ABの積は定義できて,AB=\n",
      "[[-21   6 -27]]\n",
      "ADの積は定義できて,AD=\n",
      "[[5]]\n",
      "BDの積は定義できて,BD=\n",
      "[[ -2]\n",
      " [  9]\n",
      " [-11]]\n",
      "CBの積は定義できて,CB=\n",
      "[[10 15 11]\n",
      " [ 1 -9  2]]\n",
      "CDの積は定義できて,CD=\n",
      "[[ 26]\n",
      " [-13]]\n",
      "DAの積は定義できて,DA=\n",
      "[[  4  -8  20]\n",
      " [ -3   6 -15]\n",
      " [ -1   2  -5]]\n"
     ]
    }
   ],
   "source": [
    "import itertools\n",
    "X=[0]*5\n",
    "X[1] = np.array([[-1,2,-5]])\n",
    "X[2] = np.array([[1,0,2],[0,3,0],[4,0,5]])\n",
    "X[3] = np.array([[-2,5,3],[1,-3,0]])\n",
    "X[4] = np.array([[-4],[3],[1]])\n",
    "box= {1:\"A\", 2:\"B\", 3:\"C\",4:\"D\"}\n",
    "for cp in itertools.permutations([1,2,3,4], 2):\n",
    "    try :\n",
    "        np.dot(X[cp[0]], X[cp[1]])\n",
    "        print(box[cp[0]]+box[cp[1]]+\"の積は定義できて,\" + box[cp[0]]+box[cp[1]]+\"=\")\n",
    "        print(np.dot(X[cp[0]], X[cp[1]]))   \n",
    "    except:\n",
    "        continue"
   ]
  },
  {
   "cell_type": "markdown",
   "metadata": {},
   "source": [
    "## 中間レポート第3問"
   ]
  },
  {
   "cell_type": "code",
   "execution_count": 36,
   "metadata": {},
   "outputs": [],
   "source": [
    "import sympy as sp\n",
    "x = sp.sqrt(2)\n",
    "A=np.array([[2,1],[1,2]])\n",
    "P = (1/x)*np.array([[1,1],[-1,1]])"
   ]
  },
  {
   "cell_type": "code",
   "execution_count": 37,
   "metadata": {},
   "outputs": [
    {
     "name": "stdout",
     "output_type": "stream",
     "text": [
      "[[5 4]\n",
      " [4 5]]\n",
      "[[14 13]\n",
      " [13 14]]\n"
     ]
    }
   ],
   "source": [
    "# 第3問(1)\n",
    "print(np.dot(A,A))\n",
    "print(np.dot(np.dot(A,A),A))"
   ]
  },
  {
   "cell_type": "code",
   "execution_count": 38,
   "metadata": {},
   "outputs": [
    {
     "name": "stdout",
     "output_type": "stream",
     "text": [
      "[[1 0]\n",
      " [0 1]]\n",
      "[[1 0]\n",
      " [0 1]]\n"
     ]
    }
   ],
   "source": [
    "# 第3問(2)\n",
    "print(np.dot(P.T,P))\n",
    "print(np.dot(P,P.T))"
   ]
  },
  {
   "cell_type": "code",
   "execution_count": 39,
   "metadata": {},
   "outputs": [
    {
     "name": "stdout",
     "output_type": "stream",
     "text": [
      "[[1 0]\n",
      " [0 3]]\n"
     ]
    }
   ],
   "source": [
    "# 第3問(3)\n",
    "print(np.dot(np.dot(P.T,A),P))"
   ]
  },
  {
   "cell_type": "code",
   "execution_count": 40,
   "metadata": {},
   "outputs": [
    {
     "name": "stdout",
     "output_type": "stream",
     "text": [
      "[[1 0**n]\n",
      " [0**n 3**n]]\n"
     ]
    }
   ],
   "source": [
    "# 第3問(4)\n",
    "n = sp.Symbol('n')\n",
    "print(np.dot(np.dot(P.T,A),P)**n)"
   ]
  },
  {
   "cell_type": "code",
   "execution_count": 41,
   "metadata": {},
   "outputs": [
    {
     "name": "stdout",
     "output_type": "stream",
     "text": [
      "[[0**n + 3**n/2 + 1/2, 3**n/2 - 1/2], [3**n/2 - 1/2, -0**n + 3**n/2 + 1/2]]\n"
     ]
    }
   ],
   "source": [
    "# 第3問(5)\n",
    "X=np.dot(np.dot(P.T,A),P)**n\n",
    "print(sp.simplify(np.dot(np.dot(P,X),P.T)))"
   ]
  },
  {
   "cell_type": "markdown",
   "metadata": {},
   "source": [
    "## 中間レポート第4問"
   ]
  },
  {
   "cell_type": "code",
   "execution_count": 42,
   "metadata": {},
   "outputs": [
    {
     "name": "stdout",
     "output_type": "stream",
     "text": [
      "(Matrix([\n",
      "[1, 0, -2],\n",
      "[0, 1,  3],\n",
      "[0, 0,  0]]), (0, 1))\n"
     ]
    }
   ],
   "source": [
    "# 第4問(1)\n",
    "A=sp.Matrix(np.array([[2,1,-1],[1,1,1],[3,1,-3]]))\n",
    "print(A.rref())"
   ]
  },
  {
   "cell_type": "code",
   "execution_count": 43,
   "metadata": {},
   "outputs": [
    {
     "name": "stdout",
     "output_type": "stream",
     "text": [
      "(Matrix([\n",
      "[1, 0, 2, 0, 1],\n",
      "[0, 1, 3, 0, 2],\n",
      "[0, 0, 0, 1, 3],\n",
      "[0, 0, 0, 0, 0]]), (0, 1, 3))\n"
     ]
    }
   ],
   "source": [
    "# 第4問(2)\n",
    "A=sp.Matrix(np.array([[1,1,5,0,3],[3,1,9,1,8],[2,0,4,1,5],[2,1,7,1,7]]))\n",
    "print(A.rref())"
   ]
  },
  {
   "cell_type": "code",
   "execution_count": 44,
   "metadata": {},
   "outputs": [
    {
     "name": "stdout",
     "output_type": "stream",
     "text": [
      "(Matrix([\n",
      "[1, 0, -1, -2, -3],\n",
      "[0, 1,  2,  3,  4],\n",
      "[0, 0,  0,  0,  0],\n",
      "[0, 0,  0,  0,  0],\n",
      "[0, 0,  0,  0,  0]]), (0, 1))\n"
     ]
    }
   ],
   "source": [
    "# 第4問(3)\n",
    "A = np.array([np.arange(i, i+5) for i in range(1,6)])\n",
    "A=sp.Matrix(A)\n",
    "print(A.rref())"
   ]
  },
  {
   "cell_type": "markdown",
   "metadata": {},
   "source": [
    "## 中間レポート第5問"
   ]
  },
  {
   "cell_type": "code",
   "execution_count": 45,
   "metadata": {},
   "outputs": [
    {
     "data": {
      "text/plain": [
       "{(0, 0, 0)}"
      ]
     },
     "execution_count": 45,
     "metadata": {},
     "output_type": "execute_result"
    }
   ],
   "source": [
    "# 第5問(1)\n",
    "A = np.array([[1,2,1],[2,3,1],[1,2,2]])\n",
    "b = np.array([[0],[0],[0]])\n",
    "chrs = sp.symbols(\"x_{1:4}\", Integer=True)\n",
    "mat_numpy = np.array(chrs).reshape(3,1)\n",
    "eq =list((np.dot(A,mat_numpy)-b).reshape(3))\n",
    "sp.linsolve(eq, chrs)"
   ]
  },
  {
   "cell_type": "code",
   "execution_count": 46,
   "metadata": {},
   "outputs": [
    {
     "name": "stdout",
     "output_type": "stream",
     "text": [
      "(Matrix([\n",
      "[1, 0, 0, 0],\n",
      "[0, 1, 0, 0],\n",
      "[0, 0, 1, 0]]), (0, 1, 2))\n"
     ]
    }
   ],
   "source": [
    "# 第5問(1)別解\n",
    "A = np.array([[1,2,1],[2,3,1],[1,2,2]])\n",
    "b = np.array([[0],[0],[0]])\n",
    "X=sp.Matrix(np.concatenate([A, b], 1))\n",
    "print(X.rref())"
   ]
  },
  {
   "cell_type": "code",
   "execution_count": 47,
   "metadata": {},
   "outputs": [
    {
     "data": {
      "text/plain": [
       "{(-2*x_{3} + 1, -3*x_{3} + 2, x_{3}, 3)}"
      ]
     },
     "execution_count": 47,
     "metadata": {},
     "output_type": "execute_result"
    }
   ],
   "source": [
    "# 第5問(2)\n",
    "A = np.array([[1,1,5,0],[2,1,7,1],[3,1,9,1]])\n",
    "b = np.array([[3],[7],[8]])\n",
    "chrs = sp.symbols(\"x_{1:5}\", Integer=True)\n",
    "mat_numpy = np.array(chrs).reshape(4,1)\n",
    "eq =list((np.dot(A,mat_numpy)-b).reshape(3))\n",
    "sp.linsolve(eq, chrs)"
   ]
  },
  {
   "cell_type": "code",
   "execution_count": 48,
   "metadata": {},
   "outputs": [
    {
     "name": "stdout",
     "output_type": "stream",
     "text": [
      "(Matrix([\n",
      "[1, 0, 2, 0, 1],\n",
      "[0, 1, 3, 0, 2],\n",
      "[0, 0, 0, 1, 3]]), (0, 1, 3))\n"
     ]
    }
   ],
   "source": [
    "# 第5問(2)別解\n",
    "A = np.array([[1,1,5,0],[2,1,7,1],[3,1,9,1]])\n",
    "b = np.array([[3],[7],[8]])\n",
    "X=sp.Matrix(np.concatenate([A, b], 1))\n",
    "print(X.rref())"
   ]
  },
  {
   "cell_type": "code",
   "execution_count": 49,
   "metadata": {},
   "outputs": [
    {
     "data": {
      "text/plain": [
       "{(1, 2*x_{3}, x_{3}, -3*x_{5}, x_{5})}"
      ]
     },
     "execution_count": 49,
     "metadata": {},
     "output_type": "execute_result"
    }
   ],
   "source": [
    "# 第5問(3)\n",
    "A = np.array([[1,1,-2,1,3],[2,-1,2,2,6],[3,2,-4,-3,-9]])\n",
    "b = np.array([[1],[2],[3]])\n",
    "chrs = sp.symbols(\"x_{1:6}\", Integer=True)\n",
    "mat_numpy = np.array(chrs).reshape(5,1)\n",
    "eq =list((np.dot(A,mat_numpy)-b).reshape(3))\n",
    "sp.linsolve(eq, chrs)"
   ]
  },
  {
   "cell_type": "code",
   "execution_count": 50,
   "metadata": {},
   "outputs": [
    {
     "name": "stdout",
     "output_type": "stream",
     "text": [
      "(Matrix([\n",
      "[1, 0,  0, 0, 0, 1],\n",
      "[0, 1, -2, 0, 0, 0],\n",
      "[0, 0,  0, 1, 3, 0]]), (0, 1, 3))\n"
     ]
    }
   ],
   "source": [
    "# 第5問(3)別解\n",
    "A = np.array([[1,1,-2,1,3],[2,-1,2,2,6],[3,2,-4,-3,-9]])\n",
    "b = np.array([[1],[2],[3]])\n",
    "X=sp.Matrix(np.concatenate([A, b], 1))\n",
    "print(X.rref())"
   ]
  },
  {
   "cell_type": "markdown",
   "metadata": {},
   "source": [
    "## 中間レポート第6問\n",
    "この問題だけプログラミングできなかった. 一応aの値は推定できるが..."
   ]
  },
  {
   "cell_type": "code",
   "execution_count": 22,
   "metadata": {},
   "outputs": [
    {
     "name": "stdout",
     "output_type": "stream",
     "text": [
      "(Matrix([\n",
      "[1, 0, 1, 0, (-2*a - 4)/(a + 2), 0],\n",
      "[0, 1, 1, 0,                  1, 0],\n",
      "[0, 0, 0, 1,  (4*a + 8)/(a + 2), 0],\n",
      "[0, 0, 0, 0,                  0, 1]]), (0, 1, 3, 5))\n"
     ]
    }
   ],
   "source": [
    "a = sp.Symbol('a')\n",
    "A = np.array([[1,-2,-1,1,0],[-2,5,3,-2,1],[1,1,2,0,-1],[5,0,5,3,2]])\n",
    "b = np.array([[0],[-1],[1],[a]])\n",
    "X=sp.Matrix(np.concatenate([A, b], 1))\n",
    "print(X.rref())"
   ]
  },
  {
   "cell_type": "code",
   "execution_count": 23,
   "metadata": {},
   "outputs": [
    {
     "name": "stdout",
     "output_type": "stream",
     "text": [
      "(Matrix([\n",
      "[1, 0, 1, 0, -2,  2],\n",
      "[0, 1, 1, 0,  1, -1],\n",
      "[0, 0, 0, 1,  4, -4],\n",
      "[0, 0, 0, 0,  0,  0]]), (0, 1, 3))\n"
     ]
    }
   ],
   "source": [
    "a = sp.Symbol('a')\n",
    "A = np.array([[1,-2,-1,1,0],[-2,5,3,-2,1],[1,1,2,0,-1],[5,0,5,3,2]])\n",
    "b = np.array([[0],[-1],[1],[-2]])\n",
    "X=sp.Matrix(np.concatenate([A, b], 1))\n",
    "print(X.rref())"
   ]
  },
  {
   "cell_type": "markdown",
   "metadata": {},
   "source": [
    "## 中間レポートおまけ問題"
   ]
  },
  {
   "cell_type": "markdown",
   "metadata": {},
   "source": [
    "おまけ問題(1)(2)の解答は次のとおりである.\n",
    "(1)の解答は全部で4通りある. \n",
    "(2)に関しては全探索して求めれば良い. 計算量は$O(n^{2}2^{n^2})$なので$n=4$なら十分高速で行ける."
   ]
  },
  {
   "cell_type": "code",
   "execution_count": 24,
   "metadata": {},
   "outputs": [
    {
     "name": "stdout",
     "output_type": "stream",
     "text": [
      "零行列にすることができ, 最小の操作回数は6\n",
      "操作手順は例えば以下の通り\n",
      "(1,3)成分に操作を行う.\n",
      "(2,1)成分に操作を行う.\n",
      "(3,2)成分に操作を行う.\n",
      "(3,3)成分に操作を行う.\n",
      "(4,1)成分に操作を行う.\n",
      "(4,4)成分に操作を行う.\n",
      "操作手順は例えば以下の通り\n",
      "(1,2)成分に操作を行う.\n",
      "(1,4)成分に操作を行う.\n",
      "(2,3)成分に操作を行う.\n",
      "(3,1)成分に操作を行う.\n",
      "(3,3)成分に操作を行う.\n",
      "(4,4)成分に操作を行う.\n",
      "操作手順は例えば以下の通り\n",
      "(1,1)成分に操作を行う.\n",
      "(2,3)成分に操作を行う.\n",
      "(2,4)成分に操作を行う.\n",
      "(3,2)成分に操作を行う.\n",
      "(4,2)成分に操作を行う.\n",
      "(4,4)成分に操作を行う.\n",
      "操作手順は例えば以下の通り\n",
      "(1,1)成分に操作を行う.\n",
      "(1,4)成分に操作を行う.\n",
      "(3,4)成分に操作を行う.\n",
      "(4,1)成分に操作を行う.\n",
      "(4,3)成分に操作を行う.\n",
      "(4,4)成分に操作を行う.\n"
     ]
    }
   ],
   "source": [
    "import random\n",
    "import sys\n",
    "import itertools\n",
    "import copy\n",
    "\n",
    "def checker(S):\n",
    "    total =10**9\n",
    "    for box in itertools.product([0,1], repeat = l):\n",
    "        T=copy.deepcopy(S)\n",
    "        for a in range(len(box)):\n",
    "            i = a//N\n",
    "            j = a % N\n",
    "            if box[a]==1:\n",
    "                T[i][j] =(T[i][j]+1)%2\n",
    "                if i > 0:\n",
    "                    T[i-1][j] = (T[i-1][j] + 1) % 2\n",
    "                if j > 0:\n",
    "                    T[i][j-1] = (T[i][j-1] + 1) % 2\n",
    "                if i < N-1:\n",
    "                    T[i+1][j] = (T[i+1][j] + 1) % 2\n",
    "                if j < N-1:\n",
    "                    T[i][j+1] = (T[i][j+1] + 1) % 2\n",
    "        if T==[[0]*N for i in range(N)]:\n",
    "            total = min(total, sum(box))\n",
    "    if total == 10**9:\n",
    "        print(\"この行列は零行列にできない.\")\n",
    "        return -1\n",
    "    else:\n",
    "        print(\"零行列にすることができ, 最小の操作回数は\"+str(total))\n",
    "        for box in itertools.product([0,1], repeat = l):\n",
    "            if sum(box)!=total:\n",
    "                continue\n",
    "            T=copy.deepcopy(S)\n",
    "            for a in range(len(box)):\n",
    "                i = a//N\n",
    "                j = a % N\n",
    "                if box[a]==1:\n",
    "                    T[i][j] =(T[i][j]+1)%2\n",
    "                    if i > 0:\n",
    "                        T[i-1][j] = (T[i-1][j] + 1) % 2\n",
    "                    if j > 0:\n",
    "                        T[i][j-1] = (T[i][j-1] + 1) % 2\n",
    "                    if i < N-1:\n",
    "                        T[i+1][j] = (T[i+1][j] + 1) % 2\n",
    "                    if j < N-1:\n",
    "                        T[i][j+1] = (T[i][j+1] + 1) % 2\n",
    "            if T==[[0]*N for i in range(N)]:\n",
    "                print(\"操作手順は例えば以下の通り\")\n",
    "                for a in range(len(box)):\n",
    "                    if box[a]==1:\n",
    "                        i = a//N\n",
    "                        j = a % N\n",
    "                        print(\"(\"+str(i+1)+\",\"+str(j+1)+\")成分に操作を行う.\")\n",
    "        return total\n",
    "    \n",
    "N=4\n",
    "l = N**2\n",
    "S = [[0]*N for i in range(N)]\n",
    "for i in range(N):\n",
    "    S[i][0]=1\n",
    "    S[0][i]=1\n",
    "S[N-1][N-1]=1\n",
    "total=checker(S) "
   ]
  },
  {
   "cell_type": "markdown",
   "metadata": {},
   "source": [
    "おまけ問題(3)の解答は次のとおりである.\n",
    "計算量$O(n^6)$ぐらいだと思われる. $n=10$までなら十分高速である. \n",
    "本当はPythonのライブラリーを使いたかったが, どうも有限体上での連立一次方程式を解いてくれるライブラリーがなく, 自分で掃き出し法を実装しなければいけなくなった. "
   ]
  },
  {
   "cell_type": "code",
   "execution_count": 25,
   "metadata": {},
   "outputs": [
    {
     "name": "stdout",
     "output_type": "stream",
     "text": [
      "零行列にすることができ, 最小の操作回数は6\n"
     ]
    }
   ],
   "source": [
    "def linear_solve(S):\n",
    "    A = [[0]*l for i in range(l)]\n",
    "    B = [0]*l\n",
    "    for i in range(N):\n",
    "        for j in range(N):\n",
    "            B[i*N + j]=S[i][j]\n",
    "    for a in range (l):\n",
    "        i = a // N\n",
    "        j = a % N  \n",
    "        A[a][a]=1\n",
    "        A[max(a-1,i*N)][a] = 1\n",
    "        A[min(a+1,i*N + (N-1))][a] = 1\n",
    "        if a > N-1:\n",
    "            A[a-N][a] = 1\n",
    "        if a < N*(N-1):\n",
    "            A[a+N][a] = 1\n",
    "    for a in range(l):\n",
    "        A[a].append(B[a])\n",
    "\n",
    "    # l*l+1行列の掃きだし法\n",
    "    r =0\n",
    "    q=0\n",
    "    while q <l:\n",
    "        flag =True\n",
    "        for k in range(r,l):\n",
    "            if A[k][q]!=0:\n",
    "                flag =False\n",
    "                break\n",
    "        if flag:\n",
    "            q += 1\n",
    "            continue\n",
    "        b=A[r]\n",
    "        A[r] = A[k]\n",
    "        A[k]=b\n",
    "        for j in range(l):\n",
    "            if j != r:\n",
    "                c = A[j][q]\n",
    "                for k in range(l+1):\n",
    "                    A[j][k] = (A[j][k] + c*A[r][k])%2\n",
    "        r +=1\n",
    "        q+=1\n",
    "    for i in range(r, l):\n",
    "        if A[i][l] !=0:\n",
    "            print(\"この行列は零行列にできない.\")\n",
    "            return -1\n",
    "\n",
    "    s = l - r\n",
    "    C = [0]*s\n",
    "    t=0\n",
    "    for i in range(l):\n",
    "        if A[i][i]==0:\n",
    "            C[t]= i\n",
    "            t+=1\n",
    "\n",
    "    D = [0]*l\n",
    "    for i in range(l):\n",
    "        D[i] = A[i][l]\n",
    "    \n",
    "    ans=10**9\n",
    "    for box in itertools.product([0,1], repeat=s):\n",
    "        E = copy.deepcopy(D)\n",
    "        for i in range(len(box)):\n",
    "            if box[i]==1:\n",
    "                for k in range(l):\n",
    "                    E[k]=(E[k] + A[k][C[i]])%2\n",
    "                E[C[i]]+=1\n",
    "        ans = min(ans, sum(E))\n",
    "    print(\"零行列にすることができ, 最小の操作回数は\"+str(ans))\n",
    "    return ans\n",
    "#行列Bでの試行例\n",
    "N=4\n",
    "l = N**2\n",
    "S = [[0]*N for i in range(N)]\n",
    "for i in range(N):\n",
    "    S[i][0]=1\n",
    "    S[0][i]=1\n",
    "S[N-1][N-1]=1\n",
    "total = linear_solve(S)"
   ]
  },
  {
   "cell_type": "markdown",
   "metadata": {},
   "source": [
    "## おまけ問題の更なる考察\n",
    "ここから先はおまけ問題のおまけである.\n",
    "上のプログラミングをちょこっと変えるだけで, ライツアウト(この問題)を解いてくれるプログラムが作れる."
   ]
  },
  {
   "cell_type": "code",
   "execution_count": 26,
   "metadata": {},
   "outputs": [
    {
     "name": "stdout",
     "output_type": "stream",
     "text": [
      "零行列にすることができ, 最小の操作回数は6\n",
      "操作手順は例えば以下の通り\n",
      "(1,2)成分に操作を行う.\n",
      "(1,4)成分に操作を行う.\n",
      "(2,3)成分に操作を行う.\n",
      "(3,1)成分に操作を行う.\n",
      "(3,3)成分に操作を行う.\n",
      "(4,4)成分に操作を行う.\n",
      "操作手順は例えば以下の通り\n",
      "(1,1)成分に操作を行う.\n",
      "(2,3)成分に操作を行う.\n",
      "(2,4)成分に操作を行う.\n",
      "(3,2)成分に操作を行う.\n",
      "(4,2)成分に操作を行う.\n",
      "(4,4)成分に操作を行う.\n",
      "操作手順は例えば以下の通り\n",
      "(1,3)成分に操作を行う.\n",
      "(2,1)成分に操作を行う.\n",
      "(3,2)成分に操作を行う.\n",
      "(3,3)成分に操作を行う.\n",
      "(4,1)成分に操作を行う.\n",
      "(4,4)成分に操作を行う.\n",
      "操作手順は例えば以下の通り\n",
      "(1,1)成分に操作を行う.\n",
      "(1,4)成分に操作を行う.\n",
      "(3,4)成分に操作を行う.\n",
      "(4,1)成分に操作を行う.\n",
      "(4,3)成分に操作を行う.\n",
      "(4,4)成分に操作を行う.\n"
     ]
    }
   ],
   "source": [
    "def method_linear_solve(S):\n",
    "    A = [[0]*l for i in range(l)]\n",
    "    B = [0]*l\n",
    "    for i in range(N):\n",
    "        for j in range(N):\n",
    "            B[i*N + j]=S[i][j]\n",
    "    for a in range (l):\n",
    "        i = a // N\n",
    "        j = a % N  \n",
    "        A[a][a]=1\n",
    "        A[max(a-1,i*N)][a] = 1\n",
    "        A[min(a+1,i*N + (N-1))][a] = 1\n",
    "        if a > N-1:\n",
    "            A[a-N][a] = 1\n",
    "        if a < N*(N-1):\n",
    "            A[a+N][a] = 1\n",
    "    for a in range(l):\n",
    "        A[a].append(B[a])\n",
    "\n",
    "    # l*l+1行列の掃きだし法\n",
    "    r =0\n",
    "    q=0\n",
    "    while q <l:\n",
    "        flag =True\n",
    "        for k in range(r,l):\n",
    "            if A[k][q]!=0:\n",
    "                flag =False\n",
    "                break\n",
    "        if flag:\n",
    "            q += 1\n",
    "            continue\n",
    "        b=A[r]\n",
    "        A[r] = A[k]\n",
    "        A[k]=b\n",
    "        for j in range(l):\n",
    "            if j != r:\n",
    "                c = A[j][q]\n",
    "                for k in range(l+1):\n",
    "                    A[j][k] = (A[j][k] + c*A[r][k])%2\n",
    "        r +=1\n",
    "        q+=1\n",
    "    for i in range(r, l):\n",
    "        if A[i][l] !=0:\n",
    "            print(\"この行列は零行列にできない.\")\n",
    "            return -1\n",
    "\n",
    "    s = l - r\n",
    "    C = [0]*s\n",
    "    t=0\n",
    "    for i in range(l):\n",
    "        if A[i][i]==0:\n",
    "            C[t]= i\n",
    "            t+=1\n",
    "\n",
    "    D = [0]*l\n",
    "    for i in range(l):\n",
    "        D[i] = A[i][l]\n",
    "    \n",
    "    ans=10**9\n",
    "    for box in itertools.product([0,1], repeat=s):\n",
    "        E = copy.deepcopy(D)\n",
    "        for i in range(len(box)):\n",
    "            if box[i]==1:\n",
    "                for k in range(l):\n",
    "                    E[k]=(E[k] + A[k][C[i]])%2\n",
    "                E[C[i]]+=1\n",
    "        ans = min(ans, sum(E))\n",
    "    print(\"零行列にすることができ, 最小の操作回数は\"+str(ans))\n",
    "    for box in itertools.product([0,1], repeat=s):\n",
    "        E = copy.deepcopy(D)\n",
    "        for i in range(len(box)):\n",
    "            if box[i]==1:\n",
    "                for k in range(l):\n",
    "                    E[k]=(E[k] + A[k][C[i]])%2\n",
    "                E[C[i]]+=1\n",
    "        if sum(E)==ans:\n",
    "            print(\"操作手順は例えば以下の通り\")\n",
    "            for a in range(len(E)):\n",
    "                if E[a]==1:\n",
    "                    i = a//N\n",
    "                    j = a % N\n",
    "                    print(\"(\"+str(i+1)+\",\"+str(j+1)+\")成分に操作を行う.\")\n",
    "            \n",
    "    \n",
    "    return ans\n",
    "\n",
    "N=4\n",
    "l = N**2\n",
    "S = [[0]*N for i in range(N)]\n",
    "for i in range(N):\n",
    "    S[i][0]=1\n",
    "    S[0][i]=1\n",
    "S[N-1][N-1]=1\n",
    "total = method_linear_solve(S)"
   ]
  },
  {
   "cell_type": "markdown",
   "metadata": {},
   "source": [
    "と言うことで実際に試してみるとこんな感じ"
   ]
  },
  {
   "cell_type": "code",
   "execution_count": 27,
   "metadata": {},
   "outputs": [
    {
     "name": "stdout",
     "output_type": "stream",
     "text": [
      "[1, 1, 1, 0, 0, 0, 0, 0, 0, 1]\n",
      "[1, 1, 1, 0, 0, 0, 0, 0, 1, 0]\n",
      "[1, 1, 0, 0, 0, 0, 0, 0, 1, 0]\n",
      "[0, 0, 0, 0, 0, 1, 1, 0, 0, 1]\n",
      "[0, 0, 1, 0, 1, 0, 1, 1, 0, 0]\n",
      "[0, 1, 1, 0, 0, 0, 0, 1, 1, 0]\n",
      "[0, 0, 0, 1, 1, 0, 1, 1, 0, 1]\n",
      "[0, 0, 0, 1, 0, 0, 0, 1, 0, 0]\n",
      "[1, 0, 0, 0, 0, 0, 0, 0, 0, 1]\n",
      "[1, 1, 0, 0, 0, 0, 0, 0, 0, 1]\n",
      "零行列にすることができ, 最小の操作回数は15\n",
      "操作手順は例えば以下の通り\n",
      "(1,1)成分に操作を行う.\n",
      "(1,2)成分に操作を行う.\n",
      "(2,1)成分に操作を行う.\n",
      "(2,2)成分に操作を行う.\n",
      "(2,10)成分に操作を行う.\n",
      "(3,10)成分に操作を行う.\n",
      "(5,6)成分に操作を行う.\n",
      "(5,7)成分に操作を行う.\n",
      "(6,3)成分に操作を行う.\n",
      "(6,7)成分に操作を行う.\n",
      "(7,4)成分に操作を行う.\n",
      "(7,9)成分に操作を行う.\n",
      "(8,9)成分に操作を行う.\n",
      "(9,10)成分に操作を行う.\n",
      "(10,1)成分に操作を行う.\n"
     ]
    }
   ],
   "source": [
    "N=10\n",
    "l = N**2\n",
    "S = [[1,1,1,0,0,0,0,0,0,1],[1,1,1,0,0,0,0,0,1,0],[1,1,0,0,0,0,0,0,1,0],\n",
    "     [0,0,0,0,0,1,1,0,0,1],[0,0,1,0,1,0,1,1,0,0],[0,1,1,0,0,0,0,1,1,0],\n",
    "     [0,0,0,1,1,0,1,1,0,1],[0,0,0,1,0,0,0,1,0,0],[1,0,0,0,0,0,0,0,0,1],\n",
    "     [1,1,0,0,0,0,0,0,0,1]]   \n",
    "print(*S, sep='\\n')\n",
    "total = method_linear_solve(S)"
   ]
  },
  {
   "cell_type": "markdown",
   "metadata": {},
   "source": [
    "このプログラムはどれくらい時間がかかるのだろうか. ちょっと確かめてみた."
   ]
  },
  {
   "cell_type": "code",
   "execution_count": 53,
   "metadata": {},
   "outputs": [
    {
     "name": "stdout",
     "output_type": "stream",
     "text": [
      "零行列にすることができ, 最小の操作回数は1\n",
      "1次正方行列について,0.00020313262939453125秒かかった\n",
      "零行列にすることができ, 最小の操作回数は4\n",
      "2次正方行列について,8.797645568847656e-05秒かかった\n",
      "零行列にすることができ, 最小の操作回数は5\n",
      "3次正方行列について,0.00026488304138183594秒かかった\n",
      "零行列にすることができ, 最小の操作回数は4\n",
      "4次正方行列について,0.0012369155883789062秒かかった\n",
      "零行列にすることができ, 最小の操作回数は15\n",
      "5次正方行列について,0.0035698413848876953秒かかった\n",
      "零行列にすることができ, 最小の操作回数は28\n",
      "6次正方行列について,0.011835336685180664秒かかった\n",
      "零行列にすることができ, 最小の操作回数は33\n",
      "7次正方行列について,0.027331113815307617秒かかった\n",
      "零行列にすることができ, 最小の操作回数は40\n",
      "8次正方行列について,0.05190300941467285秒かかった\n",
      "零行列にすることができ, 最小の操作回数は25\n",
      "9次正方行列について,0.10956001281738281秒かかった\n",
      "零行列にすることができ, 最小の操作回数は44\n",
      "10次正方行列について,0.18737506866455078秒かかった\n",
      "零行列にすることができ, 最小の操作回数は55\n",
      "11次正方行列について,0.2858281135559082秒かかった\n",
      "零行列にすることができ, 最小の操作回数は72\n",
      "12次正方行列について,0.5038070678710938秒かかった\n",
      "零行列にすることができ, 最小の操作回数は105\n",
      "13次正方行列について,0.8073768615722656秒かかった\n",
      "零行列にすることができ, 最小の操作回数は56\n",
      "14次正方行列について,1.2933008670806885秒かかった\n",
      "零行列にすることができ, 最小の操作回数は117\n",
      "15次正方行列について,1.9361109733581543秒かかった\n",
      "零行列にすることができ, 最小の操作回数は104\n",
      "16次正方行列について,2.8808751106262207秒かかった\n",
      "零行列にすることができ, 最小の操作回数は147\n",
      "17次正方行列について,4.144534111022949秒かかった\n",
      "零行列にすることができ, 最小の操作回数は188\n",
      "18次正方行列について,5.897396087646484秒かかった\n",
      "零行列にすることができ, 最小の操作回数は141\n",
      "19次正方行列について,50.65083384513855秒かかった\n"
     ]
    }
   ],
   "source": [
    "import time\n",
    "for N in range(1,20):\n",
    "    s=time.time()\n",
    "    l = N**2\n",
    "    S = [[1]*N for i in range(N)]\n",
    "    total = linear_solve(S)\n",
    "    t = time.time()\n",
    "    print(str(N)+\"次正方行列について,\"+str(t-s)+\"秒かかった\")"
   ]
  },
  {
   "cell_type": "markdown",
   "metadata": {},
   "source": [
    "ちなみにライツアウトに関して, $n$の値によって解が常に存在する時としない時がある. \n",
    "これって理論的に分かっているのだろうか?　一応気になって調べてみたが規則性はわからなかったので詳しいことを知っている人は教えてほしい."
   ]
  },
  {
   "cell_type": "code",
   "execution_count": 30,
   "metadata": {},
   "outputs": [
    {
     "name": "stdout",
     "output_type": "stream",
     "text": [
      "1 1 1\n",
      "2 4 4\n",
      "3 9 9\n",
      "4 16 12\n",
      "5 25 23\n",
      "6 36 36\n",
      "7 49 49\n",
      "8 64 64\n",
      "9 81 73\n",
      "10 100 100\n",
      "11 121 115\n",
      "12 144 144\n",
      "13 169 169\n",
      "14 196 192\n",
      "15 225 225\n",
      "16 256 248\n",
      "17 289 287\n",
      "18 324 324\n",
      "19 361 345\n"
     ]
    }
   ],
   "source": [
    "def linear_rank(N):\n",
    "    l = N**2\n",
    "    A = [[0]*l for i in range(l)]\n",
    "    for a in range (l):\n",
    "        i = a // N\n",
    "        j = a % N  \n",
    "        A[a][a]=1\n",
    "        A[max(a-1,i*N)][a] = 1\n",
    "        A[min(a+1,i*N + (N-1))][a] = 1\n",
    "        if a > N-1:\n",
    "            A[a-N][a] = 1\n",
    "        if a < N*(N-1):\n",
    "            A[a+N][a] = 1\n",
    "\n",
    "    # l*l+1行列の掃きだし法\n",
    "    r =0\n",
    "    q=0\n",
    "    while q <l:\n",
    "        flag =True\n",
    "        for k in range(r,l):\n",
    "            if A[k][q]!=0:\n",
    "                flag =False\n",
    "                break\n",
    "        if flag:\n",
    "            q += 1\n",
    "            continue\n",
    "        b=A[r]\n",
    "        A[r] = A[k]\n",
    "        A[k]=b\n",
    "        for j in range(l):\n",
    "            if j != r:\n",
    "                c = A[j][q]\n",
    "                for k in range(l):\n",
    "                    A[j][k] = (A[j][k] + c*A[r][k])%2\n",
    "        r +=1\n",
    "        q+=1\n",
    "    return r\n",
    "for i in range(1,20):\n",
    "    r = linear_rank(i)\n",
    "    print(i,i**2, r)"
   ]
  },
  {
   "cell_type": "code",
   "execution_count": null,
   "metadata": {},
   "outputs": [],
   "source": []
  }
 ],
 "metadata": {
  "kernelspec": {
   "display_name": "python 3.6.3",
   "language": "python",
   "name": "python3.6"
  },
  "language_info": {
   "codemirror_mode": {
    "name": "ipython",
    "version": 3
   },
   "file_extension": ".py",
   "mimetype": "text/x-python",
   "name": "python",
   "nbconvert_exporter": "python",
   "pygments_lexer": "ipython3",
   "version": "3.6.3"
  },
  "toc": {
   "base_numbering": 1,
   "nav_menu": {},
   "number_sections": true,
   "sideBar": true,
   "skip_h1_title": false,
   "title_cell": "Table of Contents",
   "title_sidebar": "Contents",
   "toc_cell": false,
   "toc_position": {},
   "toc_section_display": true,
   "toc_window_display": false
  }
 },
 "nbformat": 4,
 "nbformat_minor": 2
}
